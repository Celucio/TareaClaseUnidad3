{
 "cells": [
  {
   "cell_type": "markdown",
   "id": "867ceca0",
   "metadata": {},
   "source": [
    "# Importar las librerias necesarias"
   ]
  },
  {
   "cell_type": "code",
   "execution_count": 38,
   "id": "1e38118b",
   "metadata": {},
   "outputs": [],
   "source": [
    "import cv2\n",
    "import numpy as np\n",
    "import os\n",
    "os.environ['TF_CPP_MIN_LOG_LEVEL'] = '3' \n",
    "import shutil\n",
    "import glob\n",
    "import pandas as pd\n",
    "import matplotlib.pyplot as plt\n",
    "import seaborn as sn\n",
    "from tensorflow.keras.utils import img_to_array, load_img, array_to_img\n",
    "from keras.preprocessing.image import ImageDataGenerator\n",
    "from PIL import Image\n",
    "from sklearn.preprocessing import MinMaxScaler\n",
    "import h5py\n",
    "from time import sleep"
   ]
  },
  {
   "cell_type": "code",
   "execution_count": 40,
   "id": "620bddfc",
   "metadata": {
    "collapsed": true
   },
   "outputs": [
    {
     "ename": "FileNotFoundError",
     "evalue": "[WinError 3] El sistema no puede encontrar la ruta especificada: 'Banana_Ripeness_Dataset'",
     "output_type": "error",
     "traceback": [
      "\u001b[1;31m---------------------------------------------------------------------------\u001b[0m",
      "\u001b[1;31mFileNotFoundError\u001b[0m                         Traceback (most recent call last)",
      "Input \u001b[1;32mIn [40]\u001b[0m, in \u001b[0;36m<cell line: 2>\u001b[1;34m()\u001b[0m\n\u001b[0;32m      1\u001b[0m images_path \u001b[38;5;241m=\u001b[39m \u001b[38;5;124m\"\u001b[39m\u001b[38;5;124mBanana_Ripeness_Dataset\u001b[39m\u001b[38;5;124m\"\u001b[39m\n\u001b[1;32m----> 2\u001b[0m class_names \u001b[38;5;241m=\u001b[39m \u001b[43mos\u001b[49m\u001b[38;5;241;43m.\u001b[39;49m\u001b[43mlistdir\u001b[49m\u001b[43m(\u001b[49m\u001b[43mimages_path\u001b[49m\u001b[43m)\u001b[49m\n\u001b[0;32m      3\u001b[0m class_names\u001b[38;5;241m.\u001b[39msort()\n\u001b[0;32m      4\u001b[0m \u001b[38;5;28mprint\u001b[39m(class_names)\n",
      "\u001b[1;31mFileNotFoundError\u001b[0m: [WinError 3] El sistema no puede encontrar la ruta especificada: 'Banana_Ripeness_Dataset'"
     ]
    }
   ],
   "source": [
    "images_path = \"Banana_Ripeness_Dataset\"\n",
    "class_names = os.listdir(images_path)\n",
    "class_names.sort()\n",
    "print(class_names)"
   ]
  },
  {
   "cell_type": "code",
   "execution_count": 26,
   "id": "8b6a95ab",
   "metadata": {},
   "outputs": [
    {
     "name": "stdout",
     "output_type": "stream",
     "text": [
      "Copying Image - totally_green_0_9293.jpg in Banana_Ripeness_Dataset/['totally_green', 'yellow_with_brown_spots', 'yellow_with_green_tips']\n",
      "Copying Image - totally_green_0_9329.jpg in Banana_Ripeness_Dataset/['totally_green', 'yellow_with_brown_spots', 'yellow_with_green_tips']\n",
      "Copying Image - totally_green_0_9345.jpg in Banana_Ripeness_Dataset/['totally_green', 'yellow_with_brown_spots', 'yellow_with_green_tips']\n",
      "Copying Image - totally_green_0_9374.jpg in Banana_Ripeness_Dataset/['totally_green', 'yellow_with_brown_spots', 'yellow_with_green_tips']\n",
      "Copying Image - totally_green_0_9379.jpg in Banana_Ripeness_Dataset/['totally_green', 'yellow_with_brown_spots', 'yellow_with_green_tips']\n",
      "Copying Image - totally_green_0_9413.jpg in Banana_Ripeness_Dataset/['totally_green', 'yellow_with_brown_spots', 'yellow_with_green_tips']\n",
      "Copying Image - totally_green_0_9459.jpg in Banana_Ripeness_Dataset/['totally_green', 'yellow_with_brown_spots', 'yellow_with_green_tips']\n",
      "Copying Image - totally_green_0_9525.jpg in Banana_Ripeness_Dataset/['totally_green', 'yellow_with_brown_spots', 'yellow_with_green_tips']\n",
      "Copying Image - totally_green_0_9570.jpg in Banana_Ripeness_Dataset/['totally_green', 'yellow_with_brown_spots', 'yellow_with_green_tips']\n",
      "Copying Image - totally_green_0_9579.jpg in Banana_Ripeness_Dataset/['totally_green', 'yellow_with_brown_spots', 'yellow_with_green_tips']\n",
      "Copying Image - totally_green_0_9595.jpg in Banana_Ripeness_Dataset/['totally_green', 'yellow_with_brown_spots', 'yellow_with_green_tips']\n",
      "Copying Image - totally_green_0_9746.jpg in Banana_Ripeness_Dataset/['totally_green', 'yellow_with_brown_spots', 'yellow_with_green_tips']\n",
      "Copying Image - totally_green_0_9751.jpg in Banana_Ripeness_Dataset/['totally_green', 'yellow_with_brown_spots', 'yellow_with_green_tips']\n",
      "Copying Image - totally_green_0_9827.jpg in Banana_Ripeness_Dataset/['totally_green', 'yellow_with_brown_spots', 'yellow_with_green_tips']\n",
      "Copying Image - totally_green_0_9865.jpg in Banana_Ripeness_Dataset/['totally_green', 'yellow_with_brown_spots', 'yellow_with_green_tips']\n",
      "Copying Image - totally_green_0_9869.jpg in Banana_Ripeness_Dataset/['totally_green', 'yellow_with_brown_spots', 'yellow_with_green_tips']\n",
      "Copying Image - totally_green_0_9875.jpg in Banana_Ripeness_Dataset/['totally_green', 'yellow_with_brown_spots', 'yellow_with_green_tips']\n",
      "Copying Image - totally_green_0_9979.jpg in Banana_Ripeness_Dataset/['totally_green', 'yellow_with_brown_spots', 'yellow_with_green_tips']\n",
      "Copying Image - yellow_with_brown_spots_0_9496.jpg in Banana_Ripeness_Dataset/['totally_green', 'yellow_with_brown_spots', 'yellow_with_green_tips']\n",
      "Copying Image - yellow_with_brown_spots_0_9497.jpg in Banana_Ripeness_Dataset/['totally_green', 'yellow_with_brown_spots', 'yellow_with_green_tips']\n",
      "Copying Image - yellow_with_brown_spots_0_9541.jpg in Banana_Ripeness_Dataset/['totally_green', 'yellow_with_brown_spots', 'yellow_with_green_tips']\n",
      "Copying Image - yellow_with_brown_spots_0_9546.jpg in Banana_Ripeness_Dataset/['totally_green', 'yellow_with_brown_spots', 'yellow_with_green_tips']\n",
      "Copying Image - yellow_with_brown_spots_0_9566.jpg in Banana_Ripeness_Dataset/['totally_green', 'yellow_with_brown_spots', 'yellow_with_green_tips']\n",
      "Copying Image - yellow_with_brown_spots_0_9601.jpg in Banana_Ripeness_Dataset/['totally_green', 'yellow_with_brown_spots', 'yellow_with_green_tips']\n",
      "Copying Image - yellow_with_brown_spots_0_9647.jpg in Banana_Ripeness_Dataset/['totally_green', 'yellow_with_brown_spots', 'yellow_with_green_tips']\n",
      "Copying Image - yellow_with_brown_spots_0_9655.jpg in Banana_Ripeness_Dataset/['totally_green', 'yellow_with_brown_spots', 'yellow_with_green_tips']\n",
      "Copying Image - yellow_with_brown_spots_0_9685.jpg in Banana_Ripeness_Dataset/['totally_green', 'yellow_with_brown_spots', 'yellow_with_green_tips']\n",
      "Copying Image - yellow_with_brown_spots_0_9781.jpg in Banana_Ripeness_Dataset/['totally_green', 'yellow_with_brown_spots', 'yellow_with_green_tips']\n",
      "Copying Image - yellow_with_brown_spots_0_9782.jpg in Banana_Ripeness_Dataset/['totally_green', 'yellow_with_brown_spots', 'yellow_with_green_tips']\n",
      "Copying Image - yellow_with_brown_spots_0_9811.jpg in Banana_Ripeness_Dataset/['totally_green', 'yellow_with_brown_spots', 'yellow_with_green_tips']\n",
      "Copying Image - yellow_with_brown_spots_0_9904.jpg in Banana_Ripeness_Dataset/['totally_green', 'yellow_with_brown_spots', 'yellow_with_green_tips']\n",
      "Copying Image - yellow_with_brown_spots_0_9918.jpg in Banana_Ripeness_Dataset/['totally_green', 'yellow_with_brown_spots', 'yellow_with_green_tips']\n",
      "Copying Image - yellow_with_brown_spots_0_9943.jpg in Banana_Ripeness_Dataset/['totally_green', 'yellow_with_brown_spots', 'yellow_with_green_tips']\n",
      "Copying Image - yellow_with_brown_spots_0_9964.jpg in Banana_Ripeness_Dataset/['totally_green', 'yellow_with_brown_spots', 'yellow_with_green_tips']\n",
      "Copying Image - yellow_with_brown_spots_0_9967.jpg in Banana_Ripeness_Dataset/['totally_green', 'yellow_with_brown_spots', 'yellow_with_green_tips']\n",
      "Copying Image - yellow_with_brown_spots_0_9973.jpg in Banana_Ripeness_Dataset/['totally_green', 'yellow_with_brown_spots', 'yellow_with_green_tips']\n",
      "Copying Image - yellow_with_green_tips_0_9531.jpg in Banana_Ripeness_Dataset/['totally_green', 'yellow_with_brown_spots', 'yellow_with_green_tips']\n",
      "Copying Image - yellow_with_green_tips_0_9571.jpg in Banana_Ripeness_Dataset/['totally_green', 'yellow_with_brown_spots', 'yellow_with_green_tips']\n",
      "Copying Image - yellow_with_green_tips_0_9587.jpg in Banana_Ripeness_Dataset/['totally_green', 'yellow_with_brown_spots', 'yellow_with_green_tips']\n",
      "Copying Image - yellow_with_green_tips_0_9601.jpg in Banana_Ripeness_Dataset/['totally_green', 'yellow_with_brown_spots', 'yellow_with_green_tips']\n",
      "Copying Image - yellow_with_green_tips_0_9635.jpg in Banana_Ripeness_Dataset/['totally_green', 'yellow_with_brown_spots', 'yellow_with_green_tips']\n",
      "Copying Image - yellow_with_green_tips_0_9640.jpg in Banana_Ripeness_Dataset/['totally_green', 'yellow_with_brown_spots', 'yellow_with_green_tips']\n",
      "Copying Image - yellow_with_green_tips_0_9684.jpg in Banana_Ripeness_Dataset/['totally_green', 'yellow_with_brown_spots', 'yellow_with_green_tips']\n",
      "Copying Image - yellow_with_green_tips_0_9690.jpg in Banana_Ripeness_Dataset/['totally_green', 'yellow_with_brown_spots', 'yellow_with_green_tips']\n",
      "Copying Image - yellow_with_green_tips_0_9694.jpg in Banana_Ripeness_Dataset/['totally_green', 'yellow_with_brown_spots', 'yellow_with_green_tips']\n",
      "Copying Image - yellow_with_green_tips_0_9699.jpg in Banana_Ripeness_Dataset/['totally_green', 'yellow_with_brown_spots', 'yellow_with_green_tips']\n",
      "Copying Image - yellow_with_green_tips_0_9711.jpg in Banana_Ripeness_Dataset/['totally_green', 'yellow_with_brown_spots', 'yellow_with_green_tips']\n",
      "Copying Image - yellow_with_green_tips_0_9743.jpg in Banana_Ripeness_Dataset/['totally_green', 'yellow_with_brown_spots', 'yellow_with_green_tips']\n",
      "Copying Image - yellow_with_green_tips_0_9759.jpg in Banana_Ripeness_Dataset/['totally_green', 'yellow_with_brown_spots', 'yellow_with_green_tips']\n",
      "Copying Image - yellow_with_green_tips_0_9789.jpg in Banana_Ripeness_Dataset/['totally_green', 'yellow_with_brown_spots', 'yellow_with_green_tips']\n",
      "Copying Image - yellow_with_green_tips_0_9809.jpg in Banana_Ripeness_Dataset/['totally_green', 'yellow_with_brown_spots', 'yellow_with_green_tips']\n",
      "Copying Image - yellow_with_green_tips_0_9841.jpg in Banana_Ripeness_Dataset/['totally_green', 'yellow_with_brown_spots', 'yellow_with_green_tips']\n",
      "Copying Image - yellow_with_green_tips_0_9961.jpg in Banana_Ripeness_Dataset/['totally_green', 'yellow_with_brown_spots', 'yellow_with_green_tips']\n",
      "Copying Image - yellow_with_green_tips_0_9971.jpg in Banana_Ripeness_Dataset/['totally_green', 'yellow_with_brown_spots', 'yellow_with_green_tips']\n"
     ]
    }
   ],
   "source": [
    "for nombre_clase in class_names:\n",
    "    cur_ruta = carpeta_imagenes + \"/\" + nombre_clase\n",
    "    elementos = os.listdir(cur_ruta)\n",
    "    \n",
    "    for elemento in elementos:\n",
    "        print(\"Copying Image - {} in Banana_Ripeness_Dataset/{}\".format(elemento, nombre_clases))\n",
    "        src = os.path.join(carpeta_imagenes + \"/\" + nombre_clase, elemento) # origen\n",
    "        dst = os.path.join(\"Banana_Ripeness_Dataset_Augmented/\" + nombre_clase, elemento) \n",
    "        shutil.copy(src, dst)"
   ]
  },
  {
   "cell_type": "markdown",
   "id": "08101202",
   "metadata": {},
   "source": [
    "# DATA AUMENTATION"
   ]
  },
  {
   "cell_type": "code",
   "execution_count": 30,
   "id": "76905d17",
   "metadata": {},
   "outputs": [],
   "source": [
    "datagen = ImageDataGenerator(\n",
    "        rotation_range=40,\n",
    "        width_shift_range=0.2,\n",
    "        height_shift_range=0.2,\n",
    "        rescale=1./255,\n",
    "        shear_range=0.2,\n",
    "        zoom_range=0.4,\n",
    "        horizontal_flip=True,\n",
    "        fill_mode='nearest')"
   ]
  },
  {
   "cell_type": "markdown",
   "id": "e713347c",
   "metadata": {},
   "source": [
    "# Clase totalmente verde"
   ]
  },
  {
   "cell_type": "code",
   "execution_count": 41,
   "id": "c778aad2",
   "metadata": {},
   "outputs": [
    {
     "ename": "FileNotFoundError",
     "evalue": "[WinError 3] El sistema no puede encontrar la ruta especificada: 'Banana_Ripeness_Dataset_Augmented/totally_green'",
     "output_type": "error",
     "traceback": [
      "\u001b[1;31m---------------------------------------------------------------------------\u001b[0m",
      "\u001b[1;31mFileNotFoundError\u001b[0m                         Traceback (most recent call last)",
      "Input \u001b[1;32mIn [41]\u001b[0m, in \u001b[0;36m<cell line: 1>\u001b[1;34m()\u001b[0m\n\u001b[1;32m----> 1\u001b[0m \u001b[43mos\u001b[49m\u001b[38;5;241;43m.\u001b[39;49m\u001b[43mchdir\u001b[49m\u001b[43m(\u001b[49m\u001b[38;5;124;43m\"\u001b[39;49m\u001b[38;5;124;43mBanana_Ripeness_Dataset_Augmented/totally_green\u001b[39;49m\u001b[38;5;124;43m\"\u001b[39;49m\u001b[43m)\u001b[49m\n\u001b[0;32m      2\u001b[0m \u001b[38;5;28;01mfor\u001b[39;00m path \u001b[38;5;129;01min\u001b[39;00m os\u001b[38;5;241m.\u001b[39mlistdir():\n\u001b[0;32m      3\u001b[0m     img \u001b[38;5;241m=\u001b[39m load_img(\u001b[38;5;124mf\u001b[39m\u001b[38;5;124m\"\u001b[39m\u001b[38;5;132;01m{\u001b[39;00mpath\u001b[38;5;132;01m}\u001b[39;00m\u001b[38;5;124m\"\u001b[39m)\n",
      "\u001b[1;31mFileNotFoundError\u001b[0m: [WinError 3] El sistema no puede encontrar la ruta especificada: 'Banana_Ripeness_Dataset_Augmented/totally_green'"
     ]
    }
   ],
   "source": [
    "os.chdir(\"Banana_Ripeness_Dataset_Augmented/totally_green\")\n",
    "for path in os.listdir():\n",
    "    img = load_img(f\"{path}\")\n",
    "    x = img_to_array(img)    # this is a Numpy array with shape (3, 150, 150)\n",
    "    x = x.reshape((1,) + x.shape)\n",
    "    i = 0\n",
    "    for batch in datagen.flow(x, batch_size=1,\n",
    "            save_to_dir=\".\", \n",
    "            save_prefix= 'totally_green', \n",
    "            save_format='jpg'):\n",
    "        i += 1\n",
    "        if i == 1:     ## creates 10 image form 1 image \n",
    "            break  "
   ]
  },
  {
   "cell_type": "markdown",
   "id": "5fe6619a",
   "metadata": {},
   "source": [
    "# Clase amarilla con puntas verdes"
   ]
  },
  {
   "cell_type": "code",
   "execution_count": null,
   "id": "5f2617ea",
   "metadata": {},
   "outputs": [],
   "source": []
  }
 ],
 "metadata": {
  "kernelspec": {
   "display_name": "Python 3 (ipykernel)",
   "language": "python",
   "name": "python3"
  },
  "language_info": {
   "codemirror_mode": {
    "name": "ipython",
    "version": 3
   },
   "file_extension": ".py",
   "mimetype": "text/x-python",
   "name": "python",
   "nbconvert_exporter": "python",
   "pygments_lexer": "ipython3",
   "version": "3.9.12"
  }
 },
 "nbformat": 4,
 "nbformat_minor": 5
}
